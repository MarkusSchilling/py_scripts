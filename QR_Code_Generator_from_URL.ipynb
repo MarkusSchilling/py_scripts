{
 "cells": [
  {
   "cell_type": "code",
   "execution_count": 3,
   "metadata": {},
   "outputs": [
    {
     "name": "stdout",
     "output_type": "stream",
     "text": [
      "Requirement already satisfied: qrcode[pil] in c:\\users\\mschilli\\appdata\\local\\packages\\pythonsoftwarefoundation.python.3.10_qbz5n2kfra8p0\\localcache\\local-packages\\python310\\site-packages (7.4.2)\n",
      "Requirement already satisfied: typing-extensions in c:\\users\\mschilli\\appdata\\local\\packages\\pythonsoftwarefoundation.python.3.10_qbz5n2kfra8p0\\localcache\\local-packages\\python310\\site-packages (from qrcode[pil]) (4.12.2)\n",
      "Requirement already satisfied: pypng in c:\\users\\mschilli\\appdata\\local\\packages\\pythonsoftwarefoundation.python.3.10_qbz5n2kfra8p0\\localcache\\local-packages\\python310\\site-packages (from qrcode[pil]) (0.20220715.0)\n",
      "Requirement already satisfied: colorama in c:\\users\\mschilli\\appdata\\local\\packages\\pythonsoftwarefoundation.python.3.10_qbz5n2kfra8p0\\localcache\\local-packages\\python310\\site-packages (from qrcode[pil]) (0.4.6)\n",
      "Requirement already satisfied: pillow>=9.1.0 in c:\\users\\mschilli\\appdata\\local\\packages\\pythonsoftwarefoundation.python.3.10_qbz5n2kfra8p0\\localcache\\local-packages\\python310\\site-packages (from qrcode[pil]) (10.2.0)\n",
      "Note: you may need to restart the kernel to use updated packages.\n",
      "QR code saved to: C:/Users/mschilli/Documents/mschilli_data/Digitalisierung/=Plattform_MaterialDigital/03_Präsentationen_Workshops_Webinare/2024-09-24-26_MSE_Darmstadt/Presentation/figures/TT_Data_Zenodo_QR-Code.png\n"
     ]
    }
   ],
   "source": [
    "%pip install qrcode[pil]\n",
    "\n",
    "import qrcode\n",
    "import tkinter as tk\n",
    "from tkinter import filedialog\n",
    "from tkinter.simpledialog import askstring\n",
    "\n",
    "# Function to open file dialog and ask the user for a folder and file name\n",
    "def ask_for_file_path():\n",
    "    root = tk.Tk()\n",
    "    root.withdraw()  # Hide the main tkinter window\n",
    "    # Ask the user to select a folder\n",
    "    folder_selected = filedialog.askdirectory(title=\"Select folder to save QR Code\")\n",
    "    if not folder_selected:\n",
    "        raise Exception(\"No folder selected. Exiting.\")\n",
    "    \n",
    "    # Ask for the file name\n",
    "    file_name = askstring(\"Input\", \"Please enter the file name (without extension):\")\n",
    "    if not file_name:\n",
    "        raise Exception(\"No file name entered. Exiting.\")\n",
    "    \n",
    "    # Return full file path (with .png extension)\n",
    "    return f\"{folder_selected}/{file_name}.png\"\n",
    "\n",
    "# Ask the user to provide the URL\n",
    "url = askstring(\"Input\", \"Please enter the URL to create a QR code for:\")\n",
    "if not url:\n",
    "    raise Exception(\"No URL entered. Exiting.\")\n",
    "\n",
    "# Create the QR code\n",
    "qr_img = qrcode.make(url)\n",
    "\n",
    "# Get the file path from the user\n",
    "qr_img_path = ask_for_file_path()\n",
    "\n",
    "# Save the QR code to the specified path\n",
    "qr_img.save(qr_img_path)\n",
    "\n",
    "print(f\"QR code saved to: {qr_img_path}\")\n"
   ]
  }
 ],
 "metadata": {
  "kernelspec": {
   "display_name": "Python 3",
   "language": "python",
   "name": "python3"
  },
  "language_info": {
   "codemirror_mode": {
    "name": "ipython",
    "version": 3
   },
   "file_extension": ".py",
   "mimetype": "text/x-python",
   "name": "python",
   "nbconvert_exporter": "python",
   "pygments_lexer": "ipython3",
   "version": "3.10.11"
  }
 },
 "nbformat": 4,
 "nbformat_minor": 2
}
