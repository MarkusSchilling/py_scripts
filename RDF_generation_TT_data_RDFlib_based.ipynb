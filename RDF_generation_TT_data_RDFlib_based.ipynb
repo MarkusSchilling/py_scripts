{
  "nbformat": 4,
  "nbformat_minor": 0,
  "metadata": {
    "colab": {
      "provenance": [],
      "include_colab_link": true
    },
    "kernelspec": {
      "name": "python3",
      "display_name": "Python 3"
    },
    "language_info": {
      "name": "python"
    }
  },
  "cells": [
    {
      "cell_type": "markdown",
      "metadata": {
        "id": "view-in-github",
        "colab_type": "text"
      },
      "source": [
        "<a href=\"https://colab.research.google.com/github/MarkusSchilling/py_scripts/blob/main/RDF_generation_TT_data_RDFlib_based.ipynb\" target=\"_parent\"><img src=\"https://colab.research.google.com/assets/colab-badge.svg\" alt=\"Open In Colab\"/></a>"
      ]
    },
    {
      "cell_type": "markdown",
      "source": [
        "**RDF creation of tensile test data**\n",
        "\n",
        "In this notebook, data originating from an arbitrary tensile test is read in as CSV data. Then, this data is transformed to RDF data by creating triples using RDFlib library and some helper functions. Therefore, values tokenized from the CSV are allocated to concepts of the tensile test ontology (TTO) developed in the frame of the PMD project (TTO as PMD application ontology can be found here: https://github.com/materialdigital/application-ontologies/tree/main/tensile_test_ontology_TTO). The RDF data is directly saved in a graph. Furthermore, SPARQL queries may be performed for consistency checks.\n",
        "\n",
        "Accordingly, relevant python packages are installed and imported first."
      ],
      "metadata": {
        "id": "iMfYm1Ke6xsT"
      }
    },
    {
      "cell_type": "code",
      "source": [
        "# Installing relevant python package of rdflib\n",
        "!pip install rdflib"
      ],
      "metadata": {
        "id": "6SR7h4se9yMG",
        "colab": {
          "base_uri": "https://localhost:8080/"
        },
        "outputId": "c4a56941-7f28-4077-c32c-4aae71e47c9c"
      },
      "execution_count": 1,
      "outputs": [
        {
          "output_type": "stream",
          "name": "stdout",
          "text": [
            "Looking in indexes: https://pypi.org/simple, https://us-python.pkg.dev/colab-wheels/public/simple/\n",
            "Collecting rdflib\n",
            "  Downloading rdflib-6.3.2-py3-none-any.whl (528 kB)\n",
            "\u001b[2K     \u001b[90m━━━━━━━━━━━━━━━━━━━━━━━━━━━━━━━━━━━━━━━\u001b[0m \u001b[32m528.1/528.1 kB\u001b[0m \u001b[31m8.0 MB/s\u001b[0m eta \u001b[36m0:00:00\u001b[0m\n",
            "\u001b[?25hRequirement already satisfied: pyparsing<4,>=2.1.0 in /usr/local/lib/python3.9/dist-packages (from rdflib) (3.0.9)\n",
            "Collecting isodate<0.7.0,>=0.6.0\n",
            "  Downloading isodate-0.6.1-py2.py3-none-any.whl (41 kB)\n",
            "\u001b[2K     \u001b[90m━━━━━━━━━━━━━━━━━━━━━━━━━━━━━━━━━━━━━━━━\u001b[0m \u001b[32m41.7/41.7 kB\u001b[0m \u001b[31m2.4 MB/s\u001b[0m eta \u001b[36m0:00:00\u001b[0m\n",
            "\u001b[?25hRequirement already satisfied: six in /usr/local/lib/python3.9/dist-packages (from isodate<0.7.0,>=0.6.0->rdflib) (1.16.0)\n",
            "Installing collected packages: isodate, rdflib\n",
            "Successfully installed isodate-0.6.1 rdflib-6.3.2\n"
          ]
        }
      ]
    },
    {
      "cell_type": "code",
      "source": [
        "# Import of relevant package parts \n",
        "from rdflib import Graph, Literal, URIRef, BNode, Namespace\n",
        "from rdflib.term import Identifier\n",
        "from rdflib.collection import Collection\n",
        "from rdflib.namespace import RDF, RDFS, SKOS, XSD, OWL\n",
        "import rdflib.plugins.sparql.update\n",
        "import pandas as pd\n",
        "import io"
      ],
      "metadata": {
        "id": "RSnawTUv92rp"
      },
      "execution_count": 2,
      "outputs": []
    },
    {
      "cell_type": "code",
      "source": [
        "# Definition of helper methods / functions\n",
        "\n",
        "# Helper method 'add' used to write triples to an RDF graph\n",
        "def add(s,p,o):\n",
        "   \n",
        "    # in this case p is \"ObjectProperty\"\n",
        "    if o.find('http://')==0 or o.find('https://')==0:\n",
        "        g.add( (URIRef(s), URIRef(p), URIRef(o)) )\n",
        "        \n",
        "    # in this case p is \"DatatypeProperty\"\n",
        "    else:\n",
        "        # if we can parse o as Float, just set the datatype\n",
        "        try:\n",
        "            g.add( (URIRef(s), URIRef(p), Literal(float(o), datatype=XSD.float) ))\n",
        "        except:\n",
        "            g.add( (URIRef(s), URIRef(p), Literal(o) ))\n",
        "            \n",
        "\n",
        "# Global counter possibly usable for the creation of arbitrary instance names (numbers)\n",
        "instanceCounter = 0\n",
        "def nextInstanceNum():\n",
        "    global instanceCounter\n",
        "    instanceCounter = instanceCounter + 1\n",
        "    return str(instanceCounter)"
      ],
      "metadata": {
        "id": "6KBR_kbs-9HP"
      },
      "execution_count": 3,
      "outputs": []
    },
    {
      "cell_type": "code",
      "execution_count": 4,
      "metadata": {
        "id": "lqEA1YqQqo3w"
      },
      "outputs": [],
      "source": [
        "# 'Import' of CSV data by copying original tensile test data to the 'CSV' dataframe\n",
        "CSV=\"\"\"experiment_id;testpiece_id;machine;test_temperature;Rp01;Rp02;Rm;Rp01_in_Pa;Rp02_in_Pa;Rm_in_Pa;A;A/100;test_date;operator;strain_rate;l_0;Fracture position;reduction of area;reduction/100;valid;file format temperature;idx_mech_start;idx_mech_end;diameter;material_state;ageing duration;ageing temperature;material state name;material state name clear\n",
        "ABR5RTzl1;22-1;#N/A;20;341;365;428;341000000;365000000;428000000;5.30%;0.00053;2/2/2017;anonymous;1.0E-04;29877;BiM;9.59%;0.000959;True;A;94;5055;5.97;ABR5;0;0;T61;T61\n",
        "ABR58zl2;22-2;#N/A;80;321;340;407;321000000;340000000;407000000;7%;0.0007;2/2/2017;anonymous;1.0E-04;29877;BiM;9.32%;0.000932;True;A;1294;6601;5.98;ABR5;0;0;T61;T61\n",
        "ABR516zl3;22-3;#N/A;160;313;324;346;313000000;324000000;346000000;13%;0.0013;2/3/2017;anonymous;1.0E-04;29877;BiM;15.54%;0.001554;True;A;2900;9612;6.01;ABR5;0;0;T61;T61\n",
        "ABR518zl4;22-4;#N/A;180;288;300;320;288000000;300000000;320000000;11%;0.0011;2/3/2017;anonymous;1.0E-04;29877;BiM;16.23%;0.001623;True;A;2917;9055;6.01;ABR5;0;0;T61;T61\n",
        "ABR519zl8;22-8;#N/A;190;280;292;307;280000000;292000000;307000000;12%;0.0012;2/28/2017;anonymous;1.0E-04;29877;BiM;#N/A;#WERT!;True;A;5180;13100;6;ABR5;0;0;T61;T61\n",
        "ABR8RTzl1;43-1;CERT;20;226;246;342;226000000;246000000;342000000;7.90%;0.00079;9/8/2017;anonymous;1.0E-04;29772;BiM;14.14%;0.001414;True;B;1090;-10;6.01;ABR8;15000;190;Alt VII;190 °C, 15000 h\n",
        "ABR819zl2;43-2;CERT;190;181;196;216;181000000;196000000;216000000;20%;0.002;9/12/2017;anonymous;1.0E-04;29772;BiM;19.68%;0.001968;True;B;69894;-10;6.001;ABR8;15000;190;Alt VII;190 °C, 15000 h\n",
        "ABR9RTzl1;1-1;CERT;20;222;236;330;222000000;236000000;330000000;8.30%;0.00083;9/8/2017;anonymous;1.0E-04;29772;BiM;18.36%;0.001836;True;B;692;-10;5.994;ABR9;25000;190;Alt IX;190 °C, 25000 h\n",
        "ABR919zl2;1-2;CERT;190;168;183;210;168000000;183000000;210000000;19.50%;0.00195;9/11/2017;anonymous;1.0E-04;29772;BiM;18.38%;0.001838;True;B;49617;-10;5.999;ABR9;25000;190;Alt IX;190 °C, 25000 h\n",
        "ABR10RTzl1;197-1;CERT;20;263;280;362;263000000;280000000;362000000;8.20%;0.00082;9/8/2017;anonymous;1.0E-04;29772;BiM;64.29%;0.006429;True;B;870;-10;5.993;ABR10;15000;160;Alt X;160 °C, 15000 h\n",
        "ABR1016zl2;197-2;CERT;160;230;245;268;230000000;245000000;268000000;17.30%;0.00173;9/12/2017;anonymous;1.0E-04;29772;BiM;56.12%;0.005612;True;B;77010;-10;5.999;ABR10;15000;160;Alt X;160 °C, 15000 h\n",
        "ABR11RTzl1;3-1;CERT;20;264;279;360;264000000;279000000;360000000;7.70%;0.00077;9/11/2017;anonymous;1.0E-04;29772;BiM;47.47%;0.004747;True;B;590;-10;5.997;ABR11;25000;160;Alt XI;160 °C, 25000 h\n",
        "ABR1116zl2;3-2;CERT;160;215;233;257;215000000;233000000;257000000;15.70%;0.00157;9/12/2017;anonymous;1.0E-04;29772;BiM;41.19%;0.004119;True;B;84836;-10;5.92;ABR11;25000;160;Alt XI;160 °C, 25000 h\n",
        "ABR1RTd6;none;;20;267;278;-1;;;;;;;;;;;;;;;;;;ABR1;1000;190;Alt I;190 °C, 1000 h\n",
        "ABR2RTd3;none;;20;237;250;-1;;;;;;;;;;;;;;;;;;ABR2;8800;190;Alt II;190 °C, 8800 h\n",
        "ABR3RTd2;none;;20;292;306;-1;;;;;;;;;;;;;;;;;;ABR3;1000;160;Alt III;160 °C, 1000 h\n",
        "ABR4RTd2;none;;20;273;286;-1;;;;;;;;;;;;;;;;;;ABR4;8800;160;Alt IV;160 °C, 8800 h\n",
        "ABR7RTd1;none;;20;122;131;-1;;;;;;;;;;;;;;;;;;ABR7;160;350;Alt VII;160 °C, 350 h\n",
        "\"\"\""
      ]
    },
    {
      "cell_type": "code",
      "source": [
        "# Creating the RDF graph 'g' and, as the case may be, parsing the PMDco (see also: https://github.com/materialdigital/core-ontology) to include all PMDco concepts into the graph\n",
        "g = Graph()\n",
        "# g.parse(\"https://w3id.org/pmd/co\")"
      ],
      "metadata": {
        "id": "uMcMOdyE_yfZ"
      },
      "execution_count": 11,
      "outputs": []
    },
    {
      "cell_type": "code",
      "source": [
        "# Definition of IRI prefixes (namespaces)\n",
        "base = Namespace(\"https://w3id.org/pmd/co/\")\n",
        "g.bind(\"base\", base)\n",
        "unit = Namespace(\"http://qudt.org/vocab/unit/\")\n",
        "g.bind(\"unit\", unit)\n",
        "DC = Namespace(\"https://www.dublincore.org/specifications/dublin-core/dcmi-terms/\")\n",
        "g.bind(\"DC\", DC)\n",
        "\n",
        "# Application namespace\n",
        "prefix = Namespace(\"https://w3id.org/pmd/ao/tte/\")\n",
        "g.bind(\"prefix\", prefix)\n",
        "\n",
        "# Turtle style abbreviation for RDF.type\n",
        "a = RDF.type\n",
        "\n",
        "# Make the data be real ontologies that we can check \n",
        "onto = URIRef(prefix)\n",
        "g.add((onto, a, OWL.Ontology))\n",
        "g.add((onto, OWL.imports, URIRef(base)))\n",
        "\n",
        "# Add creators:\n",
        "markus = URIRef(\"https://orcid.org/0000-0002-7094-5371\")\n",
        "bernd = URIRef(\"https://orcid.org/0000-0002-3717-7104\")\n",
        "joerg = URIRef(\"https://orcid.org/0000-0001-7192-7143\")\n",
        "philipp = URIRef(\"https://orcid.org/0000-0003-4971-3645\")\n",
        "\n",
        "g.add((onto, DC.creator, markus))\n",
        "g.add((bernd, RDFS.label, Literal(\"Markus Schilling\", datatype=XSD.string)))\n",
        "g.add((onto, DC.creator, bernd))\n",
        "g.add((bernd, RDFS.label, Literal(\"Bernd Bayerlein\", datatype=XSD.string)))\n",
        "g.add((onto, DC.creator, joerg))\n",
        "g.add((bernd, RDFS.label, Literal(\"Jörg Waitelonis\", datatype=XSD.string)))\n",
        "g.add((onto, DC.creator, philipp))\n",
        "g.add((bernd, RDFS.label, Literal(\"Philipp von Hartrott\", datatype=XSD.string)))\n",
        "\n",
        "\"\"\"\n",
        "# Creation of triples\n",
        "for line in CSV.split(\"\\n\")[1:]:\n",
        "    #print(line)\n",
        "    tok = line.split(\";\")\n",
        "    if len(tok)<=1:\n",
        "        break\n",
        "    \n",
        "    # Definition of tokens in accordance with columns of original csv file\n",
        "    experiment_id = tok[0]    \n",
        "    testpiece_id = tok[1]\n",
        "    machine = tok[2]\n",
        "    temperature = tok[3]\n",
        "    rp01 = tok[4]\n",
        "    rp02 = tok[5]\n",
        "    rm = tok[6]\n",
        "    operator = tok[13]\n",
        "    strainrate = tok[14]\n",
        "    agingtime = tok[25]\n",
        "    agingtemp = tok[26]\n",
        "    matstatename = tok[28]\n",
        "\"\"\"\n",
        "\n",
        "# Load data from string above. Also possible: Load data from a URL\n",
        "data = pd.read_csv(io.StringIO(CSV), sep=';')\n",
        "\n",
        "# Iterate over the first n rows of the data table\n",
        "#for idx, row in data.iloc[0:5].iterrows():\n",
        "\n",
        "# Iterate over the full data table\n",
        "for idx, row in data.iterrows():\n",
        "  # Row could also be used directly in the place where we create the statements\n",
        "  experiment_id     = row[\"experiment_id\"]    \n",
        "  testpiece_id      = row[\"testpiece_id\"]  \n",
        "  machine           = row[\"machine\"]  \n",
        "  temperature       = row[\"test_temperature\"]  \n",
        "  rp01              = row[\"Rp01\"]  \n",
        "  rp02              = row[\"Rp02\"] \n",
        "  rm                = row[\"Rm\"]\n",
        "  operator          = row[\"operator\"]\n",
        "  strainrate        = row[\"strain_rate\"]\n",
        "  agingtime         = row[\"ageing duration\"]\n",
        "  agingtemp         = row[\"ageing temperature\"]\n",
        "  matstatename      = row[\"material state name clear\"]\n",
        "\n",
        "  # Creation of triples for all instances (considering all connections between them). There is about one \"block\" per instance.\n",
        "  experimentIRI = URIRef(prefix + experiment_id)\n",
        "  g.add((experimentIRI, a, base.ProcessIdentifier)) \n",
        "  g.add((experimentIRI, base.value, Literal(experiment_id, datatype=XSD.string)))\n",
        "\n",
        "  processIRI = URIRef(experimentIRI + \"_process\")\n",
        "  g.add((processIRI, a, base.TensileTest))\n",
        "  g.add((processIRI, base.characteristic, experimentIRI))\n",
        "\n",
        "  # Test piece as input prior to tensile test\n",
        "  testpieceID_IRI = URIRef(prefix + f\"testpiece_name/{testpiece_id}\")\n",
        "  g.add((testpieceID_IRI, a, base.TestPieceName))\n",
        "  g.add((testpieceID_IRI, a, base.Metadata))\n",
        "  g.add((testpieceID_IRI, base.value, Literal(testpiece_id, datatype=XSD.string)))\n",
        "\n",
        "  testpieceIRI = URIRef(testpieceID_IRI  + f\"_testpiece/{testpiece_id}\")\n",
        "  g.add((testpieceIRI, a, base.TestPiece))\n",
        "  g.add((testpieceIRI, base.characteristic, testpieceID_IRI))\n",
        "\n",
        "  # Test piece(s) as output after tensile test (typically, 2 fractured parts will be formed)\n",
        "  testpieceAfterTest1ID_IRI = URIRef(testpieceID_IRI + \"_afterTest_1\")\n",
        "  g.add((testpieceAfterTest1ID_IRI, a, base.TestPieceName))\n",
        "  g.add((testpieceAfterTest1ID_IRI, a, base.Metadata))\n",
        "  g.add((testpieceAfterTest1ID_IRI, base.value, Literal(testpiece_id + \"_afterTest_1\", datatype=XSD.string)))\n",
        "\n",
        "  testpieceAfterTest1IRI = URIRef(testpieceIRI  + \"_testpiece_afterTest_1\")\n",
        "  g.add((testpieceAfterTest1IRI, a, base.TestPiece))\n",
        "  g.add((testpieceAfterTest1IRI, base.characteristic, testpieceAfterTest1ID_IRI))\n",
        "\n",
        "  testpieceAfterTest2ID_IRI = URIRef(testpieceID_IRI + \"_afterTest_2\")\n",
        "  g.add((testpieceAfterTest2ID_IRI, a, base.TestPieceName))\n",
        "  g.add((testpieceAfterTest2ID_IRI, a, base.Metadata))\n",
        "  g.add((testpieceAfterTest2ID_IRI, base.value, Literal(testpiece_id + \"_afterTest_2\", datatype=XSD.string)))\n",
        "\n",
        "  testpieceAfterTest2IRI = URIRef(testpieceIRI  + \"_testpiece_afterTest_2\")\n",
        "  g.add((testpieceAfterTest2IRI, a, base.TestPiece))\n",
        "  g.add((testpieceAfterTest2IRI, base.characteristic, testpieceAfterTest2ID_IRI))\n",
        "\n",
        "  g.add((processIRI, base.input, testpieceIRI))\n",
        "  g.add((processIRI, base.output, testpieceAfterTest1IRI))\n",
        "  g.add((processIRI, base.output, testpieceAfterTest2IRI))\n",
        "\n",
        "  # The next section contains some secondary data.\n",
        "  rp01IRI = URIRef(experimentIRI + \"_rp01\")\n",
        "  g.add((rp01IRI, a, base.Rp01))\n",
        "  g.add((rp01IRI, a, base.SecondaryData))\n",
        "  g.add((rp01IRI, a, base.Measurement))\n",
        "  g.add((rp01IRI, base.value, Literal(rp01, datatype=XSD.float)))\n",
        "  g.add((rp01IRI, base.unit, unit.MegaPa))\n",
        "  g.add((processIRI, base.output, rp01IRI))\n",
        "\n",
        "  rp02IRI = URIRef(experimentIRI + \"_rp02\")\n",
        "  g.add((rp02IRI, a, base.Rp01))\n",
        "  g.add((rp02IRI, a, base.SecondaryData))\n",
        "  g.add((rp02IRI, a, base.Measurement))\n",
        "  g.add((rp02IRI, base.value, Literal(rp02, datatype=XSD.float)))\n",
        "  g.add((rp02IRI, base.unit, unit.MegaPa))\n",
        "  g.add((processIRI, base.output, rp02IRI))\n",
        "\n",
        "  rmIRI = URIRef(experimentIRI + \"_tensileStrength\")\n",
        "  g.add((rmIRI, a, base.TensileStrength))\n",
        "  g.add((rmIRI, a, base.SecondaryData))\n",
        "  g.add((rmIRI, a, base.Measurement))\n",
        "  g.add((rmIRI, base.value, Literal(rm, datatype=XSD.float)))\n",
        "  g.add((rmIRI, base.unit, unit.MegaPa))\n",
        "  g.add((processIRI, base.output, rmIRI))\n",
        "\n",
        "  # The next section contains some metadata.\n",
        "  machineIRI = URIRef(experimentIRI + \"_machine\")\n",
        "  g.add((machineIRI, a, base.TensileTestingMachine))\n",
        "  g.add((machineIRI, a, base.Metadata))\n",
        "  g.add((machineIRI, base.value, Literal(machine, datatype=XSD.string)))\n",
        "  g.add((processIRI, base.characteristic, machineIRI))\n",
        "\n",
        "  temperatureIRI = URIRef(experimentIRI + \"_temperature\")\n",
        "  g.add((temperatureIRI, a, base.EnvironmentalTemperature))\n",
        "  g.add((temperatureIRI, a, base.Metadata))\n",
        "  g.add((temperatureIRI, a, base.Measurement))\n",
        "  g.add((temperatureIRI, base.value, Literal(temperature, datatype=XSD.float)))\n",
        "  g.add((temperatureIRI, base.unit, unit.DEG_C))\n",
        "  g.add((processIRI, base.characteristic, temperatureIRI))\n",
        "\n",
        "  setTemperatureIRI = URIRef(experimentIRI + \"_setTemperature\")\n",
        "  g.add((temperatureIRI, a, base.EnvironmentalTemperature))\n",
        "  g.add((temperatureIRI, a, base.Metadata))\n",
        "  g.add((temperatureIRI, a, base.SetPoint))\n",
        "  g.add((temperatureIRI, base.value, Literal(temperature, datatype=XSD.float)))\n",
        "  g.add((temperatureIRI, base.unit, unit.DEG_C))\n",
        "  g.add((processIRI, base.characteristic, setTemperatureIRI))\n",
        "\n",
        "  operatorIRI = URIRef(experimentIRI + \"_operator\")\n",
        "  g.add((operatorIRI, a, base.Operator))\n",
        "  g.add((operatorIRI, a, base.Metadata))\n",
        "  g.add((operatorIRI, base.value, Literal(operator, datatype=XSD.string)))\n",
        "  g.add((processIRI, base.characteristic, operatorIRI))\n",
        "\n",
        "  strainrateIRI = URIRef(experimentIRI + \"_strainRate\")\n",
        "  g.add((strainrateIRI, a, base.StrainRate))\n",
        "  g.add((strainrateIRI, a, base.Metadata))\n",
        "  g.add((strainrateIRI, a, base.SetPoint))\n",
        "  g.add((strainrateIRI, base.value, Literal(strainrate, datatype=XSD.float)))\n",
        "  g.add((processIRI, base.characteristic, strainrateIRI))\n",
        "\n",
        "  agingtimeIRI = URIRef(experimentIRI + \"_agingTime\")\n",
        "  g.add((agingtimeIRI, a, base.AgingTime))\n",
        "  g.add((agingtimeIRI, a, base.Metadata))\n",
        "  g.add((agingtimeIRI, a, base.SetPoint))\n",
        "  g.add((agingtimeIRI, base.value, Literal(agingtime, datatype=XSD.float)))\n",
        "  g.add((agingtimeIRI, base.unit, unit.HR))\n",
        "  g.add((processIRI, base.characteristic, agingtimeIRI))\n",
        "\n",
        "  agingtemperatureIRI = URIRef(experimentIRI + \"_agingTemperature\")\n",
        "  g.add((agingtemperatureIRI, a, base.AgingTemperature))\n",
        "  g.add((agingtemperatureIRI, a, base.Metadata))\n",
        "  g.add((agingtemperatureIRI, a, base.SetPoint))\n",
        "  g.add((agingtemperatureIRI, base.value, Literal(agingtemp, datatype=XSD.float)))\n",
        "  g.add((agingtemperatureIRI, base.unit, unit.DEG_C))\n",
        "  g.add((processIRI, base.characteristic, agingtemperatureIRI))\n",
        "\n",
        "  matstatenameIRI = URIRef(experimentIRI + \"_materialStateName\")\n",
        "  g.add((matstatenameIRI, a, base.MaterialDesignation))\n",
        "  g.add((matstatenameIRI, a, base.Metadata))\n",
        "  g.add((matstatenameIRI, base.value, Literal(matstatename, datatype=XSD.string)))\n",
        "  g.add((processIRI, base.characteristic, matstatenameIRI))\n",
        "\n",
        "  # break\n"
      ],
      "metadata": {
        "id": "9ZVPKF8ArjDv"
      },
      "execution_count": 12,
      "outputs": []
    },
    {
      "cell_type": "code",
      "source": [
        "g.serialize(\"RDF-TTO-Orowan.ttl\", format=\"ttl\")"
      ],
      "metadata": {
        "colab": {
          "base_uri": "https://localhost:8080/"
        },
        "id": "Jm2QZlnQm4o4",
        "outputId": "899c3145-2271-424e-8426-517d48759620"
      },
      "execution_count": 13,
      "outputs": [
        {
          "output_type": "execute_result",
          "data": {
            "text/plain": [
              "<Graph identifier=N94a3c08c67bd45349b20fcdc8ebbac14 (<class 'rdflib.graph.Graph'>)>"
            ]
          },
          "metadata": {},
          "execution_count": 13
        }
      ]
    }
  ]
}